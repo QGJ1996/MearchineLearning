{
 "cells": [
  {
   "cell_type": "code",
   "execution_count": 62,
   "metadata": {},
   "outputs": [],
   "source": [
    "import numpy as np\n",
    "from math import *"
   ]
  },
  {
   "cell_type": "code",
   "execution_count": 63,
   "metadata": {},
   "outputs": [],
   "source": [
    "def loadDataSet():\n",
    "    postingList = [\n",
    "        ['my','dog','has','flea','problem','help','please'],\n",
    "        ['maybe','not','take','him','to','dog','park','stupid'],\n",
    "        ['my','dalmation','is','so','cute','I','love','him'],\n",
    "        ['stop','posting','stupid','worthless','garbage'],\n",
    "        ['mr','licks','ate','my','steak','how','to','stop','him'],\n",
    "        ['quit','buying','worthing','dog','food','stupid']\n",
    "    ]\n",
    "    classVec = [0,1,0,1,0,1]\n",
    "    return postingList,classVec"
   ]
  },
  {
   "cell_type": "code",
   "execution_count": 64,
   "metadata": {},
   "outputs": [],
   "source": [
    "def createVocabList(dataSet):\n",
    "    vocabSet = set()\n",
    "    for document in dataSet:\n",
    "        vocabSet = set(document)|vocabSet\n",
    "    return list(vocabSet)"
   ]
  },
  {
   "cell_type": "code",
   "execution_count": 65,
   "metadata": {},
   "outputs": [],
   "source": [
    "def setOfWord2Vec(vocabList,inputSet):\n",
    "    returnVec = [0]*len(vocabList)\n",
    "    for word in inputSet:\n",
    "        if word in vocabList:\n",
    "            returnVec[vocabList.index(word)] = 1\n",
    "        else:\n",
    "            print('the word:%s is not in my Vocabulary'%word)\n",
    "    return returnVec"
   ]
  },
  {
   "cell_type": "code",
   "execution_count": 79,
   "metadata": {},
   "outputs": [],
   "source": [
    "def trainNB0(trainMatrix,trainCategory):\n",
    "    numTrainDocs = len(trainMatrix)\n",
    "    numWords = len(trainMatrix[0])\n",
    "#     计算的是p(c=1)的概率，   1  代表侮辱性文字\n",
    "    pAbusive = sum(trainCategory)/float(numTrainDocs)\n",
    "#     p0Num = np.zeros(numWords);p1Num = np.zeros(numWords)\n",
    "    p0Num = np.ones(numWords);p1Num = np.ones(numWords)\n",
    "    '''\n",
    "    由于朴素贝叶斯是一连串的概率相乘，如果一个值为0，那么最后的乘积为0，为了降低影响，将所有的词的出现次数初始化为1，并将分母初始化为2.0\n",
    "    由于是连续的概率相乘，最后的因子会非常小，程序会下溢，并将p1Vect和p0Vect改为log\n",
    "    '''\n",
    "#     p0Demo = 0.0;p1Demo = 0.0\n",
    "    p0Demo = 2.0;p1Demo = 2.0\n",
    "    for i in range(numTrainDocs):\n",
    "        if trainCategory[i] == 1:\n",
    "#             侮辱性文字的向量\n",
    "            p1Num += trainMatrix[i]\n",
    "#     所有侮辱性文字的出现总次数\n",
    "            p1Demo += sum(trainMatrix[i])\n",
    "        else:\n",
    "            p0Num += trainMatrix[i]\n",
    "            p0Demo += sum(trainMatrix[i])\n",
    "#   分别计算的是条件概率，分别是  侮辱文字的情况下，各个词的出现概率  ，非侮辱文字的情况下，各个词出现的概率\n",
    "    p1Vect = p1Num/p1Demo\n",
    "    p0Vect = p0Num/p0Demo\n",
    "    print(p0Vect,p1Vect,pAbusive,sep='\\n')\n",
    "    return p0Vect,p1Vect,pAbusive"
   ]
  },
  {
   "cell_type": "code",
   "execution_count": 67,
   "metadata": {},
   "outputs": [
    {
     "name": "stdout",
     "output_type": "stream",
     "text": [
      "['so', 'food', 'I', 'help', 'how', 'to', 'licks', 'ate', 'not', 'quit', 'is', 'posting', 'garbage', 'maybe', 'mr', 'stupid', 'dalmation', 'park', 'has', 'my', 'love', 'worthing', 'cute', 'him', 'stop', 'buying', 'worthless', 'take', 'flea', 'dog', 'steak', 'problem', 'please']\n",
      "['my', 'dog', 'has', 'flea', 'problem', 'help', 'please']\n",
      "['maybe', 'not', 'take', 'him', 'to', 'dog', 'park', 'stupid']\n",
      "['my', 'dalmation', 'is', 'so', 'cute', 'I', 'love', 'him']\n",
      "['stop', 'posting', 'stupid', 'worthless', 'garbage']\n",
      "['mr', 'licks', 'ate', 'my', 'steak', 'how', 'to', 'stop', 'him']\n",
      "['quit', 'buying', 'worthing', 'dog', 'food', 'stupid']\n",
      "[[0, 0, 0, 1, 0, 0, 0, 0, 0, 0, 0, 0, 0, 0, 0, 0, 0, 0, 1, 1, 0, 0, 0, 0, 0, 0, 0, 0, 1, 1, 0, 1, 1], [0, 0, 0, 0, 0, 1, 0, 0, 1, 0, 0, 0, 0, 1, 0, 1, 0, 1, 0, 0, 0, 0, 0, 1, 0, 0, 0, 1, 0, 1, 0, 0, 0], [1, 0, 1, 0, 0, 0, 0, 0, 0, 0, 1, 0, 0, 0, 0, 0, 1, 0, 0, 1, 1, 0, 1, 1, 0, 0, 0, 0, 0, 0, 0, 0, 0], [0, 0, 0, 0, 0, 0, 0, 0, 0, 0, 0, 1, 1, 0, 0, 1, 0, 0, 0, 0, 0, 0, 0, 0, 1, 0, 1, 0, 0, 0, 0, 0, 0], [0, 0, 0, 0, 1, 1, 1, 1, 0, 0, 0, 0, 0, 0, 1, 0, 0, 0, 0, 1, 0, 0, 0, 1, 1, 0, 0, 0, 0, 0, 1, 0, 0], [0, 1, 0, 0, 0, 0, 0, 0, 0, 1, 0, 0, 0, 0, 0, 1, 0, 0, 0, 0, 0, 1, 0, 0, 0, 1, 0, 0, 0, 1, 0, 0, 0]]\n"
     ]
    },
    {
     "data": {
      "text/plain": [
       "(array([0.07692308, 0.03846154, 0.07692308, 0.07692308, 0.07692308,\n",
       "        0.07692308, 0.07692308, 0.07692308, 0.03846154, 0.03846154,\n",
       "        0.07692308, 0.03846154, 0.03846154, 0.03846154, 0.07692308,\n",
       "        0.03846154, 0.07692308, 0.03846154, 0.07692308, 0.15384615,\n",
       "        0.07692308, 0.03846154, 0.07692308, 0.11538462, 0.07692308,\n",
       "        0.03846154, 0.03846154, 0.03846154, 0.07692308, 0.07692308,\n",
       "        0.07692308, 0.07692308, 0.07692308]),\n",
       " array([0.04761905, 0.0952381 , 0.04761905, 0.04761905, 0.04761905,\n",
       "        0.0952381 , 0.04761905, 0.04761905, 0.0952381 , 0.0952381 ,\n",
       "        0.04761905, 0.0952381 , 0.0952381 , 0.0952381 , 0.04761905,\n",
       "        0.19047619, 0.04761905, 0.0952381 , 0.04761905, 0.04761905,\n",
       "        0.04761905, 0.0952381 , 0.04761905, 0.0952381 , 0.0952381 ,\n",
       "        0.0952381 , 0.0952381 , 0.0952381 , 0.04761905, 0.14285714,\n",
       "        0.04761905, 0.04761905, 0.04761905]),\n",
       " 0.5)"
      ]
     },
     "execution_count": 67,
     "metadata": {},
     "output_type": "execute_result"
    }
   ],
   "source": [
    "listOposts,listClasses = loadDataSet()\n",
    "myVocabList = createVocabList(listOposts)\n",
    "print(myVocabList)\n",
    "trainMat = []\n",
    "for postinDoc in listOposts:\n",
    "    print(postinDoc)\n",
    "    trainMat.append(setOfWord2Vec(myVocabList,postinDoc))\n",
    "print(trainMat)\n",
    "p0V,p1V,pAb = trainNB0(np.array(trainMat),np.array(listClasses))\n",
    "p0V,p1V,pAb"
   ]
  },
  {
   "cell_type": "code",
   "execution_count": 74,
   "metadata": {},
   "outputs": [],
   "source": [
    "def classifyNB(vect2Classify,p0Vec,p1Vec,pClass1):\n",
    "    p1 = sum(vect2Classify*p1Vec)+log(pClass1)\n",
    "    p0 = sum(vect2Classify*p0Vec)+log(1 - pClass1)\n",
    "    if p1>p0:\n",
    "        return 1\n",
    "    else:\n",
    "        return 0"
   ]
  },
  {
   "cell_type": "code",
   "execution_count": 69,
   "metadata": {},
   "outputs": [
    {
     "name": "stdout",
     "output_type": "stream",
     "text": [
      "4\n",
      "2\n",
      "33\n"
     ]
    }
   ],
   "source": [
    "matrix = [[1,23,4,5],[2,34,5,6]]\n",
    "print(len(matrix[0]))\n",
    "print(len(matrix))\n",
    "print(sum(matrix[0]))"
   ]
  },
  {
   "cell_type": "code",
   "execution_count": 75,
   "metadata": {},
   "outputs": [],
   "source": [
    "def testingNB():\n",
    "    listOposts,listClasses = loadDataSet()\n",
    "    myVocabList = createVocabList(listOposts)\n",
    "    print(myVocabList)\n",
    "    trainMat = []\n",
    "    for postinDoc in listOposts:\n",
    "        print(postinDoc)\n",
    "        trainMat.append(setOfWord2Vec(myVocabList,postinDoc))\n",
    "    print(trainMat)\n",
    "    p0V,p1V,pAb = trainNB0(np.array(trainMat),np.array(listClasses))\n",
    "    testEntry = ['love','my','dalmation']\n",
    "    thisDoc = np.array(setOfWord2Vec(myVocabList,testEntry))\n",
    "    print(testEntry,'classify as',classifyNB(thisDoc,p0V,p1V,pAb))"
   ]
  },
  {
   "cell_type": "code",
   "execution_count": 80,
   "metadata": {},
   "outputs": [
    {
     "name": "stdout",
     "output_type": "stream",
     "text": [
      "['so', 'food', 'I', 'help', 'how', 'to', 'licks', 'ate', 'not', 'quit', 'is', 'posting', 'garbage', 'maybe', 'mr', 'stupid', 'dalmation', 'park', 'has', 'my', 'love', 'worthing', 'cute', 'him', 'stop', 'buying', 'worthless', 'take', 'flea', 'dog', 'steak', 'problem', 'please']\n",
      "['my', 'dog', 'has', 'flea', 'problem', 'help', 'please']\n",
      "['maybe', 'not', 'take', 'him', 'to', 'dog', 'park', 'stupid']\n",
      "['my', 'dalmation', 'is', 'so', 'cute', 'I', 'love', 'him']\n",
      "['stop', 'posting', 'stupid', 'worthless', 'garbage']\n",
      "['mr', 'licks', 'ate', 'my', 'steak', 'how', 'to', 'stop', 'him']\n",
      "['quit', 'buying', 'worthing', 'dog', 'food', 'stupid']\n",
      "[[0, 0, 0, 1, 0, 0, 0, 0, 0, 0, 0, 0, 0, 0, 0, 0, 0, 0, 1, 1, 0, 0, 0, 0, 0, 0, 0, 0, 1, 1, 0, 1, 1], [0, 0, 0, 0, 0, 1, 0, 0, 1, 0, 0, 0, 0, 1, 0, 1, 0, 1, 0, 0, 0, 0, 0, 1, 0, 0, 0, 1, 0, 1, 0, 0, 0], [1, 0, 1, 0, 0, 0, 0, 0, 0, 0, 1, 0, 0, 0, 0, 0, 1, 0, 0, 1, 1, 0, 1, 1, 0, 0, 0, 0, 0, 0, 0, 0, 0], [0, 0, 0, 0, 0, 0, 0, 0, 0, 0, 0, 1, 1, 0, 0, 1, 0, 0, 0, 0, 0, 0, 0, 0, 1, 0, 1, 0, 0, 0, 0, 0, 0], [0, 0, 0, 0, 1, 1, 1, 1, 0, 0, 0, 0, 0, 0, 1, 0, 0, 0, 0, 1, 0, 0, 0, 1, 1, 0, 0, 0, 0, 0, 1, 0, 0], [0, 1, 0, 0, 0, 0, 0, 0, 0, 1, 0, 0, 0, 0, 0, 1, 0, 0, 0, 0, 0, 1, 0, 0, 0, 1, 0, 0, 0, 1, 0, 0, 0]]\n",
      "[0.07692308 0.03846154 0.07692308 0.07692308 0.07692308 0.07692308\n",
      " 0.07692308 0.07692308 0.03846154 0.03846154 0.07692308 0.03846154\n",
      " 0.03846154 0.03846154 0.07692308 0.03846154 0.07692308 0.03846154\n",
      " 0.07692308 0.15384615 0.07692308 0.03846154 0.07692308 0.11538462\n",
      " 0.07692308 0.03846154 0.03846154 0.03846154 0.07692308 0.07692308\n",
      " 0.07692308 0.07692308 0.07692308]\n",
      "[0.04761905 0.0952381  0.04761905 0.04761905 0.04761905 0.0952381\n",
      " 0.04761905 0.04761905 0.0952381  0.0952381  0.04761905 0.0952381\n",
      " 0.0952381  0.0952381  0.04761905 0.19047619 0.04761905 0.0952381\n",
      " 0.04761905 0.04761905 0.04761905 0.0952381  0.04761905 0.0952381\n",
      " 0.0952381  0.0952381  0.0952381  0.0952381  0.04761905 0.14285714\n",
      " 0.04761905 0.04761905 0.04761905]\n",
      "0.5\n",
      "['love', 'my', 'dalmation'] classify as 0\n"
     ]
    }
   ],
   "source": [
    "testingNB()"
   ]
  },
  {
   "cell_type": "code",
   "execution_count": null,
   "metadata": {},
   "outputs": [],
   "source": []
  }
 ],
 "metadata": {
  "kernelspec": {
   "display_name": "Python 3",
   "language": "python",
   "name": "python3"
  },
  "language_info": {
   "codemirror_mode": {
    "name": "ipython",
    "version": 3
   },
   "file_extension": ".py",
   "mimetype": "text/x-python",
   "name": "python",
   "nbconvert_exporter": "python",
   "pygments_lexer": "ipython3",
   "version": "3.7.6"
  }
 },
 "nbformat": 4,
 "nbformat_minor": 4
}
